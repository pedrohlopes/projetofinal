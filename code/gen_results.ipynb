{
 "cells": [
  {
   "cell_type": "code",
   "execution_count": null,
   "metadata": {},
   "outputs": [],
   "source": [
    "import museval\n",
    "import musdb\n",
    "from utils import separate_from_audio,load_unet_spleeter\n",
    "import audiofile as af\n",
    "from glob import glob\n",
    "import numpy as np\n",
    "from scipy import signal"
   ]
  },
  {
   "cell_type": "code",
   "execution_count": null,
   "metadata": {},
   "outputs": [],
   "source": [
    "def to_mono(audio):\n",
    "    return audio[0]+audio[1]\n",
    "paths = glob(\"/nfs/home/pedro.lopes/data/dataset/musdb18hq/test/*\")\n",
    "mix_audios = []\n",
    "vocal_audios = []\n",
    "acc_audios = []\n",
    "for path in paths:\n",
    "    audio_mix, sr = af.read(path + '/mixture.wav' )\n",
    "    audio_vocal, sr = af.read(path + '/vocals.wav' )\n",
    "    audio_bass, sr = af.read(path + '/bass.wav' )\n",
    "    audio_drums, sr = af.read(path + '/drums.wav' )\n",
    "    audio_other, sr = af.read(path + '/other.wav' )\n",
    "    audio_mix = to_mono(audio_mix)\n",
    "    audio_vocal = to_mono(audio_vocal)\n",
    "    audio_acc = to_mono((audio_bass+audio_drums+audio_other)/3)\n",
    "    mix_audios.append(audio_mix)\n",
    "    vocal_audios.append(audio_vocal)\n",
    "    acc_audios.append(audio_acc)"
   ]
  },
  {
   "cell_type": "code",
   "execution_count": null,
   "metadata": {},
   "outputs": [],
   "source": [
    "paths"
   ]
  },
  {
   "cell_type": "code",
   "execution_count": null,
   "metadata": {},
   "outputs": [],
   "source": [
    "import matplotlib.pyplot as plt\n",
    "def plot_result(input_audio,start_time,end_time,start_freq,end_freq,label):\n",
    "    f,t,stft_data = signal.stft(input_audio,fs=44100,nperseg=1024,noverlap=512)\n",
    "    idx = (t>start_time).astype(int) + (t<=end_time).astype(int) == 2\n",
    "    idx_freq = (f>start_freq).astype(int) + (f<=end_freq).astype(int) == 2\n",
    "    plt.pcolormesh(t[idx],f[idx_freq],np.log(np.abs(stft_data[idx_freq,:][:,idx])+1e-7))\n",
    "    plt.ylabel('Frequency (Hz)')\n",
    "    plt.xlabel('Time (s)')\n",
    "    plt.title(label)\n",
    "    plt.show()"
   ]
  },
  {
   "cell_type": "code",
   "execution_count": null,
   "metadata": {},
   "outputs": [],
   "source": [
    "plot_result(audio_mix,27,32,0,8000,'Mixture')"
   ]
  },
  {
   "cell_type": "code",
   "execution_count": null,
   "metadata": {},
   "outputs": [],
   "source": [
    "number = 7\n",
    "plt.rcParams['figure.figsize'] = [10, 9]\n",
    "plt.rcParams['figure.dpi'] = 50\n",
    "plt.rcParams.update({'font.size': 20})\n",
    "start_time = 50\n",
    "end_time = 53.6\n",
    "start_freq = 0\n",
    "end_freq = 10000\n",
    "start_time,end_time,start_freq,end_freq"
   ]
  },
  {
   "cell_type": "code",
   "execution_count": null,
   "metadata": {},
   "outputs": [],
   "source": [
    "plot_result(mix_audios[number],start_time,end_time,start_freq,end_freq,'Mixture')\n",
    "plot_result(vocal_audios[number],start_time,end_time,start_freq,end_freq,'Vocals - Ground Truth')\n",
    "plot_result(acc_audios[number],start_time,end_time,start_freq,end_freq,'Accompaniment - Ground Truth')"
   ]
  },
  {
   "cell_type": "code",
   "execution_count": null,
   "metadata": {},
   "outputs": [],
   "source": [
    "paths = glob(\"/nfs/home/pedro.lopes/data/dataset/musdb18hq/test/*\")\n",
    "import os\n",
    "basepaths=[]\n",
    "for path in paths:\n",
    "    basepaths.append(os.path.basename(path))\n",
    "basepaths[0]"
   ]
  },
  {
   "cell_type": "code",
   "execution_count": null,
   "metadata": {},
   "outputs": [],
   "source": [
    "model = 'u_net_5_5'\n",
    "rootdir ='/nfs/home/pedro.lopes/data/results/' + model + '/'\n",
    "audio_vocal,sr = af.read(rootdir + basepaths[number] + '_vocals.wav')\n",
    "audio_acc,sr = af.read(rootdir + basepaths[number] + '_acc.wav')\n"
   ]
  },
  {
   "cell_type": "code",
   "execution_count": null,
   "metadata": {},
   "outputs": [],
   "source": [
    "\n",
    "plot_result(audio_vocal,start_time,end_time,start_freq,end_freq,'Predicted Vocals')\n",
    "plot_result(audio_acc,start_time,end_time,start_freq,end_freq,'Predicted Accompaniment')"
   ]
  },
  {
   "cell_type": "code",
   "execution_count": null,
   "metadata": {},
   "outputs": [],
   "source": []
  },
  {
   "cell_type": "code",
   "execution_count": null,
   "metadata": {},
   "outputs": [],
   "source": [
    "model = 'u_net_3_7'\n",
    "rootdir ='/nfs/home/pedro.lopes/data/results/' + model + '/'\n",
    "audio_vocal,sr = af.read(rootdir + basepaths[number] + '_vocals.wav')\n",
    "audio_acc,sr = af.read(rootdir + basepaths[number] + '_acc.wav')\n",
    "\n",
    "plot_result(audio_vocal,start_time,end_time,start_freq,end_freq,'Predicted Vocals')\n",
    "plot_result(audio_acc,start_time,end_time,start_freq,end_freq,'Predicted Accompaniment')"
   ]
  },
  {
   "cell_type": "code",
   "execution_count": null,
   "metadata": {},
   "outputs": [],
   "source": [
    "model = 'u_net_4_6'\n",
    "rootdir ='/nfs/home/pedro.lopes/data/results/' + model + '/'\n",
    "audio_vocal,sr = af.read(rootdir + basepaths[number] + '_vocals.wav')\n",
    "audio_acc,sr = af.read(rootdir + basepaths[number] + '_acc.wav')\n",
    "\n",
    "plot_result(audio_vocal,start_time,end_time,start_freq,end_freq,'Predicted Vocals')\n",
    "plot_result(audio_acc,start_time,end_time,start_freq,end_freq,'Predicted Accompaniment')"
   ]
  },
  {
   "cell_type": "code",
   "execution_count": null,
   "metadata": {},
   "outputs": [],
   "source": []
  },
  {
   "cell_type": "code",
   "execution_count": null,
   "metadata": {},
   "outputs": [],
   "source": [
    "model = 'blstm'\n",
    "rootdir ='/nfs/home/pedro.lopes/data/results/' + model + '/'\n",
    "audio_vocal,sr = af.read(rootdir + basepaths[number] + '_vocals.wav')\n",
    "audio_acc,sr = af.read(rootdir + basepaths[number] + '_acc.wav')\n",
    "plot_result(audio_vocal,start_time,end_time,start_freq,end_freq,'Predicted Vocals')\n",
    "plot_result(audio_acc,start_time,end_time,start_freq,end_freq,'Predicted Accompaniment')"
   ]
  },
  {
   "cell_type": "code",
   "execution_count": null,
   "metadata": {},
   "outputs": [],
   "source": [
    "training_times = [\n",
    "        486.46068120002747,\n",
    "        472.5236852169037,\n",
    "        448.9812743663788,\n",
    "        445.88380336761475,\n",
    "        443.1589186191559,\n",
    "        500.35964918136597,\n",
    "        448.072060585022,\n",
    "        441.6163010597229,\n",
    "        440.5625445842743,\n",
    "        449.8468153476715,\n",
    "        433.6829504966736,\n",
    "        434.97915625572205,\n",
    "        435.91609621047974,\n",
    "        433.3260598182678,\n",
    "        435.7254180908203,\n",
    "        435.768550157547,\n",
    "        451.16471004486084,\n",
    "        468.5247104167938,\n",
    "        447.4436500072479,\n",
    "        739.8607318401337,\n",
    "        732.122266292572,\n",
    "        749.2833344936371,\n",
    "        706.19207072258,\n",
    "        765.1410751342773,\n",
    "        730.4553894996643,\n",
    "        765.5540878772736,\n",
    "        740.7421264648438,\n",
    "        752.2580511569977,\n",
    "        734.1671416759491,\n",
    "        749.6910858154297,\n",
    "        776.5683963298798,\n",
    "        746.1276783943176,\n",
    "        752.5790021419525,\n",
    "        746.6223819255829,\n",
    "        757.3118722438812,\n",
    "        724.1116490364075,\n",
    "        731.4632935523987,\n",
    "        1011.455915927887,\n",
    "        999.745805978775,\n",
    "        1004.5301969051361,\n",
    "        1003.2017652988434,\n",
    "        1004.0589673519135,\n",
    "        1005.5419580936432,\n",
    "        1005.640472650528,\n",
    "        1010.9104468822479,\n",
    "        1012.4328429698944,\n",
    "        1015.9965298175812,\n",
    "        1016.6991024017334,\n",
    "        1014.2171998023987,\n",
    "        1013.2250974178314,\n",
    "        1016.964254617691,\n",
    "        1013.6004047393799,\n",
    "        1013.1436376571655,\n",
    "        1015.1610515117645,\n",
    "        1012.8780374526978,\n",
    "        1014.8086824417114,\n",
    "        1013.8613483905792,\n",
    "        1016.2895619869232,\n",
    "        1011.1544260978699,\n",
    "        1011.9593093395233,\n",
    "        1012.0712900161743,\n",
    "        1010.063747882843,\n",
    "        1016.408843755722,\n",
    "        1014.5534710884094,\n",
    "        1013.7881190776825,\n",
    "        1011.1451563835144,\n",
    "        1014.7438704967499,\n",
    "        1014.3409957885742,\n",
    "        1012.2248730659485,\n",
    "        1789.2299308776855,\n",
    "        1753.3748996257782,\n",
    "        1727.3000173568726,\n",
    "        1737.7726049423218,\n",
    "        1764.7167782783508,\n",
    "        1768.2564024925232,\n",
    "        1757.8759911060333,\n",
    "        1791.7728474140167,\n",
    "        1770.157987833023,\n",
    "        1777.3369374275208,\n",
    "        1781.0637712478638,\n",
    "        1796.7427003383636,\n",
    "        2183.0299801826477,\n",
    "        2101.7651693820953,\n",
    "        2111.8546481132507,\n",
    "        2116.0623428821564,\n",
    "        2119.806429862976]\n",
    "np.sum(training_times)/3600"
   ]
  }
 ],
 "metadata": {
  "kernelspec": {
   "display_name": "Python [conda env:dev_pedro] *",
   "language": "python",
   "name": "conda-env-dev_pedro-py"
  },
  "language_info": {
   "codemirror_mode": {
    "name": "ipython",
    "version": 3
   },
   "file_extension": ".py",
   "mimetype": "text/x-python",
   "name": "python",
   "nbconvert_exporter": "python",
   "pygments_lexer": "ipython3",
   "version": "3.7.6"
  }
 },
 "nbformat": 4,
 "nbformat_minor": 4
}
